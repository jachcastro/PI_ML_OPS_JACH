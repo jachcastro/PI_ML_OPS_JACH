{
 "cells": [
  {
   "cell_type": "markdown",
   "metadata": {},
   "source": [
    "# API programación y pruebas de funciones"
   ]
  },
  {
   "cell_type": "markdown",
   "metadata": {},
   "source": [
    "### Librerias a trabajar "
   ]
  },
  {
   "cell_type": "code",
   "execution_count": 8,
   "metadata": {},
   "outputs": [],
   "source": [
    "import pandas as pd"
   ]
  },
  {
   "cell_type": "code",
   "execution_count": 59,
   "metadata": {},
   "outputs": [],
   "source": [
    "# Se ingresa un idioma (como están escritos en el dataset, no hay que traducirlos!). Debe devolver la cantidad de películas producidas en ese idioma.\n",
    "# Ejemplo de retorno: X cantidad de películas fueron estrenadas en idioma\n",
    "def peliculas_idioma(idioma: str):\n",
    "    # Validar si el parámetro es de tipo string\n",
    "    if not isinstance(idioma, str):\n",
    "        return \"El parámetro 'idioma' debe ser un string.\"\n",
    "\n",
    "    # Leer el archivo CSV\n",
    "    df = pd.read_csv('3_datasets_api/spoken_data.csv')\n",
    "    \n",
    "    # Filtrar las películas que coincidan con el idioma\n",
    "    peliculas_filtradas = df[df['iso_639_1'].str.lower() == idioma.lower()]\n",
    "    \n",
    "    # Obtener la cantidad de películas para ese idioma\n",
    "    cantidad_peliculas = peliculas_filtradas['id_movie'].nunique()\n",
    "    \n",
    "    return  f\"{cantidad_peliculas} numero de películas que fueron estrenadas en idioma: {idioma}\"\n",
    " "
   ]
  },
  {
   "cell_type": "code",
   "execution_count": 60,
   "metadata": {},
   "outputs": [
    {
     "name": "stdout",
     "output_type": "stream",
     "text": [
      "2413 numero de películas que fueron estrenadas en idioma: eS\n",
      "2413 numero de películas que fueron estrenadas en idioma: Es\n",
      "2413 numero de películas que fueron estrenadas en idioma: ES\n",
      "2413 numero de películas que fueron estrenadas en idioma: es\n",
      "28729 numero de películas que fueron estrenadas en idioma: eN\n",
      "28729 numero de películas que fueron estrenadas en idioma: En\n",
      "28729 numero de películas que fueron estrenadas en idioma: EN\n",
      "28729 numero de películas que fueron estrenadas en idioma: en\n",
      "0 numero de películas que fueron estrenadas en idioma: x\n",
      "El parámetro 'idioma' debe ser un string.\n"
     ]
    }
   ],
   "source": [
    "print(peliculas_idioma('eS'))\n",
    "print(peliculas_idioma('Es'))\n",
    "print(peliculas_idioma('ES'))\n",
    "print(peliculas_idioma('es'))\n",
    "print(peliculas_idioma('eN'))\n",
    "print(peliculas_idioma('En'))\n",
    "print(peliculas_idioma('EN'))\n",
    "print(peliculas_idioma('en'))\n",
    "print(peliculas_idioma('x'))\n",
    "print(peliculas_idioma(0))"
   ]
  },
  {
   "cell_type": "code",
   "execution_count": 13,
   "metadata": {},
   "outputs": [],
   "source": [
    "# Creo um nuevo dataframe solo con las columnas a trabajar en la función    \n",
    "df = pd.read_csv('2_datasets_etl/movies_dataset_cleaned.csv')\n",
    "df_peliculas_duracion = df [['id','title','runtime','release_year']]\n",
    "df_peliculas_duracion.to_csv(\"3_datasets_api/peliculas_duracion.csv\", index=False)"
   ]
  },
  {
   "cell_type": "code",
   "execution_count": 14,
   "metadata": {},
   "outputs": [],
   "source": [
    "# Se ingresa una pelicula. Debe devolver la duracion y el año.\n",
    "# Ejemplo de retorno: X . Duración: x. Año: xx\n",
    "def peliculas_duracion(pelicula: str):\n",
    "    # Validar si el parámetro es de tipo string\n",
    "    if not isinstance(pelicula, str):\n",
    "        return \"El parámetro 'pelicula' debe ser un string.\"\n",
    "\n",
    "    # Leer el archivo CSV que contiene la información de las películas\n",
    "    df = pd.read_csv('3_datasets_api/peliculas_duracion.csv')\n",
    "\n",
    "    # Buscar la película específica por su título en la columna 'title'\n",
    "    pelicula_encontrada = df[df['title'].str.lower() == pelicula.lower()]\n",
    "\n",
    "    if len(pelicula_encontrada) == 0:\n",
    "        return f\"No se encontró la película: {pelicula}\"\n",
    "\n",
    "    # Obtener la duración y el año de la película\n",
    "    duracion = pelicula_encontrada['runtime'].iloc[0]\n",
    "    año = pelicula_encontrada['release_year'].iloc[0]\n",
    "\n",
    "    return f\"{pelicula}. Duración: {duracion} minutos. Año: {año}\"\n",
    "\n"
   ]
  },
  {
   "cell_type": "code",
   "execution_count": 15,
   "metadata": {},
   "outputs": [
    {
     "name": "stdout",
     "output_type": "stream",
     "text": [
      "Avatar. Duración: 162.0 minutos. Año: 2009\n",
      "AVATAR. Duración: 162.0 minutos. Año: 2009\n",
      "No se encontró la película: HAVATAR\n",
      "X. Duración: 90.0 minutos. Año: 2010\n",
      "El parámetro 'pelicula' debe ser un string.\n"
     ]
    }
   ],
   "source": [
    "# Ejemplo de uso:\n",
    "print(peliculas_duracion('Avatar'))\n",
    "print(peliculas_duracion('AVATAR'))\n",
    "print(peliculas_duracion('HAVATAR'))\n",
    "print(peliculas_duracion('X'))\n",
    "print(peliculas_duracion(0))"
   ]
  },
  {
   "cell_type": "code",
   "execution_count": 17,
   "metadata": {},
   "outputs": [],
   "source": [
    "movies_df = pd.read_csv('2_datasets_etl/movies_dataset_cleaned.csv')\n",
    "collection_df = pd.read_csv('2_datasets_etl/collection_data.csv')\n",
    "\n",
    "# Realizar el JOIN utilizando las columnas 'Id' de collection_df y 'id_movie' de movies_df\n",
    "franquicia_df=pd.merge(movies_df, collection_df, left_on='id', right_on='id_movie', how='inner')\n",
    "franquicia_df =  franquicia_df[['id','title','revenue','name_collection']]\n",
    "franquicia_df.to_csv(\"3_datasets_api/franquicia.csv\", index=False)\n"
   ]
  },
  {
   "cell_type": "code",
   "execution_count": 22,
   "metadata": {},
   "outputs": [],
   "source": [
    "# def franquicia( Franquicia: str ): \n",
    "# Se ingresa la franquicia, retornando la cantidad de peliculas, ganancia total y promedio\n",
    "# Ejemplo de retorno: La franquicia X posee X peliculas, una ganancia total de x y una ganancia promedio de xx\n",
    "\n",
    "def franquicia(Franquicia: str) -> str:\n",
    "    # Validar si el parámetro es de tipo string\n",
    "    if not isinstance(Franquicia, str):\n",
    "        return \"El parámetro 'franquicia' debe ser un string.\"\n",
    "\n",
    "    # Leer los archivos CSV en DataFrames\n",
    "    franquicia_df= pd.read_csv('3_datasets_api/franquicia.csv')\n",
    "    \n",
    "    # Filtrar las películas de la franquicia\n",
    "    franquicia_df = franquicia_df[franquicia_df['name_collection'].str.lower() == Franquicia.lower()]\n",
    "    \n",
    "    # Obtener la cantidad de películas\n",
    "    cantidad_peliculas = franquicia_df.shape[0]\n",
    "    \n",
    "    # Obtener la ganancia total\n",
    "    ganancia_total = franquicia_df['revenue'].sum()/1000000\n",
    "    \n",
    "    # Obtener la ganancia promedio\n",
    "    ganancia_promedio = franquicia_df['revenue'].mean()/1000000\n",
    "    \n",
    "    # Formatear el resultado como un mensaje de retorno\n",
    "    resultado = f\"La franquicia {Franquicia} posee {cantidad_peliculas} películas, con una ganancia total de {ganancia_total:,.0f} millones y una ganancia promedio de {ganancia_promedio:,.0f} millones por cada una.\"\n",
    "    \n",
    "    return resultado\n"
   ]
  },
  {
   "cell_type": "code",
   "execution_count": 23,
   "metadata": {},
   "outputs": [
    {
     "name": "stdout",
     "output_type": "stream",
     "text": [
      "La franquicia Harry Potter Collection posee 8 películas, con una ganancia total de 7,707 millones y una ganancia promedio de 963 millones por cada una.\n",
      "La franquicia The Avengers Collection posee 2 películas, con una ganancia total de 2,925 millones y una ganancia promedio de 1,462 millones por cada una.\n",
      "La franquicia Toy Story Collection posee 3 películas, con una ganancia total de 1,938 millones y una ganancia promedio de 646 millones por cada una.\n",
      "La franquicia x posee 0 películas, con una ganancia total de 0 millones y una ganancia promedio de nan millones por cada una.\n",
      "El parámetro 'franquicia' debe ser un string.\n"
     ]
    }
   ],
   "source": [
    "print(franquicia('Harry Potter Collection'))\n",
    "print(franquicia('The Avengers Collection'))\n",
    "print(franquicia('Toy Story Collection'))\n",
    "print(franquicia('x'))\n",
    "print(franquicia(0))\n"
   ]
  },
  {
   "cell_type": "code",
   "execution_count": 30,
   "metadata": {},
   "outputs": [],
   "source": [
    "# def peliculas_pais( Pais: str ): \n",
    "# Se ingresa un país (como están escritos en el dataset, no hay que traducirlos!), retornando la cantidad de peliculas producidas en el mismo.\n",
    "# Ejemplo de retorno: Se produjeron X películas en el país X\n",
    "\n",
    "def peliculas_pais(Pais: str) -> int:\n",
    "    # Validar si el parámetro es de tipo string\n",
    "    if not isinstance(Pais, str):\n",
    "        return \"El parámetro 'Pais' debe ser un string.\"\n",
    "\n",
    "    # Leer el archivo CSV de películas y países\n",
    "    countries_df = pd.read_csv('3_datasets_api/countries_data.csv')\n",
    "\n",
    "    # Filtrar las películas que coincidan con el país ingresado\n",
    "    peliculas_filtradas = countries_df[countries_df['iso_3166_1'].str.lower() == Pais.lower()]\n",
    "\n",
    "    # Contar la cantidad de películas producidas en el país\n",
    "    cantidad_peliculas = peliculas_filtradas.shape[0]\n",
    "    if cantidad_peliculas>0 :\n",
    "        pais_peliculas_filtradas = peliculas_filtradas.groupby('name_countries').first().index[0]\n",
    "    else:\n",
    "        pais_peliculas_filtradas = ''\n",
    "\n",
    "    return f\"Se produjeron {cantidad_peliculas} películas en el país {pais_peliculas_filtradas}\"\n",
    "\n"
   ]
  },
  {
   "cell_type": "code",
   "execution_count": 31,
   "metadata": {},
   "outputs": [
    {
     "name": "stdout",
     "output_type": "stream",
     "text": [
      "Se produjeron 964 películas en el país Spain\n",
      "Se produjeron 21155 películas en el país United States of America\n",
      "Se produjeron 912 películas en el país Russia\n",
      "Se produjeron 0 películas en el país \n",
      "Se produjeron 0 películas en el país \n",
      "El parámetro 'Pais' debe ser un string.\n"
     ]
    }
   ],
   "source": [
    "# Ejemplo de uso\n",
    "print(peliculas_pais('ES'))\n",
    "print(peliculas_pais('US'))\n",
    "print(peliculas_pais('ru'))\n",
    "print(peliculas_pais('EN'))\n",
    "print(peliculas_pais('XX'))\n",
    "print(peliculas_pais(0))"
   ]
  },
  {
   "cell_type": "code",
   "execution_count": 15,
   "metadata": {},
   "outputs": [
    {
     "data": {
      "text/html": [
       "<div>\n",
       "<style scoped>\n",
       "    .dataframe tbody tr th:only-of-type {\n",
       "        vertical-align: middle;\n",
       "    }\n",
       "\n",
       "    .dataframe tbody tr th {\n",
       "        vertical-align: top;\n",
       "    }\n",
       "\n",
       "    .dataframe thead th {\n",
       "        text-align: right;\n",
       "    }\n",
       "</style>\n",
       "<table border=\"1\" class=\"dataframe\">\n",
       "  <thead>\n",
       "    <tr style=\"text-align: right;\">\n",
       "      <th></th>\n",
       "      <th>name</th>\n",
       "      <th>id</th>\n",
       "      <th>id_movie</th>\n",
       "    </tr>\n",
       "  </thead>\n",
       "  <tbody>\n",
       "    <tr>\n",
       "      <th>0</th>\n",
       "      <td>Pixar Animation Studios</td>\n",
       "      <td>3</td>\n",
       "      <td>862</td>\n",
       "    </tr>\n",
       "    <tr>\n",
       "      <th>1</th>\n",
       "      <td>TriStar Pictures</td>\n",
       "      <td>559</td>\n",
       "      <td>8844</td>\n",
       "    </tr>\n",
       "    <tr>\n",
       "      <th>2</th>\n",
       "      <td>Teitler Film</td>\n",
       "      <td>2550</td>\n",
       "      <td>8844</td>\n",
       "    </tr>\n",
       "    <tr>\n",
       "      <th>3</th>\n",
       "      <td>Interscope Communications</td>\n",
       "      <td>10201</td>\n",
       "      <td>8844</td>\n",
       "    </tr>\n",
       "    <tr>\n",
       "      <th>4</th>\n",
       "      <td>Warner Bros.</td>\n",
       "      <td>6194</td>\n",
       "      <td>15602</td>\n",
       "    </tr>\n",
       "    <tr>\n",
       "      <th>...</th>\n",
       "      <td>...</td>\n",
       "      <td>...</td>\n",
       "      <td>...</td>\n",
       "    </tr>\n",
       "    <tr>\n",
       "      <th>70552</th>\n",
       "      <td>20th Century Fox Television</td>\n",
       "      <td>16323</td>\n",
       "      <td>30840</td>\n",
       "    </tr>\n",
       "    <tr>\n",
       "      <th>70553</th>\n",
       "      <td>CanWest Global Communications</td>\n",
       "      <td>38978</td>\n",
       "      <td>30840</td>\n",
       "    </tr>\n",
       "    <tr>\n",
       "      <th>70554</th>\n",
       "      <td>Sine Olivia</td>\n",
       "      <td>19653</td>\n",
       "      <td>111109</td>\n",
       "    </tr>\n",
       "    <tr>\n",
       "      <th>70555</th>\n",
       "      <td>American World Pictures</td>\n",
       "      <td>6165</td>\n",
       "      <td>67758</td>\n",
       "    </tr>\n",
       "    <tr>\n",
       "      <th>70556</th>\n",
       "      <td>Yermoliev</td>\n",
       "      <td>88753</td>\n",
       "      <td>227506</td>\n",
       "    </tr>\n",
       "  </tbody>\n",
       "</table>\n",
       "<p>70557 rows × 3 columns</p>\n",
       "</div>"
      ],
      "text/plain": [
       "                                name     id  id_movie\n",
       "0            Pixar Animation Studios      3       862\n",
       "1                   TriStar Pictures    559      8844\n",
       "2                       Teitler Film   2550      8844\n",
       "3          Interscope Communications  10201      8844\n",
       "4                       Warner Bros.   6194     15602\n",
       "...                              ...    ...       ...\n",
       "70552    20th Century Fox Television  16323     30840\n",
       "70553  CanWest Global Communications  38978     30840\n",
       "70554                    Sine Olivia  19653    111109\n",
       "70555        American World Pictures   6165     67758\n",
       "70556                      Yermoliev  88753    227506\n",
       "\n",
       "[70557 rows x 3 columns]"
      ]
     },
     "execution_count": 15,
     "metadata": {},
     "output_type": "execute_result"
    }
   ],
   "source": [
    "companies_df"
   ]
  },
  {
   "cell_type": "code",
   "execution_count": 12,
   "metadata": {},
   "outputs": [
    {
     "ename": "FileNotFoundError",
     "evalue": "[Errno 2] No such file or directory: '2_datasets_etl/movies_dataset_cleaned.csv'",
     "output_type": "error",
     "traceback": [
      "\u001b[1;31m---------------------------------------------------------------------------\u001b[0m",
      "\u001b[1;31mFileNotFoundError\u001b[0m                         Traceback (most recent call last)",
      "Cell \u001b[1;32mIn[12], line 2\u001b[0m\n\u001b[0;32m      1\u001b[0m \u001b[39m# Leer el archivo CSV de películas y productoras\u001b[39;00m\n\u001b[1;32m----> 2\u001b[0m movies_df \u001b[39m=\u001b[39m pd\u001b[39m.\u001b[39;49mread_csv(\u001b[39m'\u001b[39;49m\u001b[39m2_datasets_etl/movies_dataset_cleaned.csv\u001b[39;49m\u001b[39m'\u001b[39;49m)\n\u001b[0;32m      3\u001b[0m companies_df \u001b[39m=\u001b[39m pd\u001b[39m.\u001b[39mread_csv(\u001b[39m'\u001b[39m\u001b[39m2_datasets_etl/companies_data.csv\u001b[39m\u001b[39m'\u001b[39m)\n\u001b[0;32m      5\u001b[0m \u001b[39m# Realizar el JOIN utilizando las columnas 'id_movie' de movies_df e 'id_movie' de companies_df\u001b[39;00m\n",
      "File \u001b[1;32m~\\AppData\\Local\\Packages\\PythonSoftwareFoundation.Python.3.10_qbz5n2kfra8p0\\LocalCache\\local-packages\\Python310\\site-packages\\pandas\\io\\parsers\\readers.py:912\u001b[0m, in \u001b[0;36mread_csv\u001b[1;34m(filepath_or_buffer, sep, delimiter, header, names, index_col, usecols, dtype, engine, converters, true_values, false_values, skipinitialspace, skiprows, skipfooter, nrows, na_values, keep_default_na, na_filter, verbose, skip_blank_lines, parse_dates, infer_datetime_format, keep_date_col, date_parser, date_format, dayfirst, cache_dates, iterator, chunksize, compression, thousands, decimal, lineterminator, quotechar, quoting, doublequote, escapechar, comment, encoding, encoding_errors, dialect, on_bad_lines, delim_whitespace, low_memory, memory_map, float_precision, storage_options, dtype_backend)\u001b[0m\n\u001b[0;32m    899\u001b[0m kwds_defaults \u001b[39m=\u001b[39m _refine_defaults_read(\n\u001b[0;32m    900\u001b[0m     dialect,\n\u001b[0;32m    901\u001b[0m     delimiter,\n\u001b[1;32m   (...)\u001b[0m\n\u001b[0;32m    908\u001b[0m     dtype_backend\u001b[39m=\u001b[39mdtype_backend,\n\u001b[0;32m    909\u001b[0m )\n\u001b[0;32m    910\u001b[0m kwds\u001b[39m.\u001b[39mupdate(kwds_defaults)\n\u001b[1;32m--> 912\u001b[0m \u001b[39mreturn\u001b[39;00m _read(filepath_or_buffer, kwds)\n",
      "File \u001b[1;32m~\\AppData\\Local\\Packages\\PythonSoftwareFoundation.Python.3.10_qbz5n2kfra8p0\\LocalCache\\local-packages\\Python310\\site-packages\\pandas\\io\\parsers\\readers.py:577\u001b[0m, in \u001b[0;36m_read\u001b[1;34m(filepath_or_buffer, kwds)\u001b[0m\n\u001b[0;32m    574\u001b[0m _validate_names(kwds\u001b[39m.\u001b[39mget(\u001b[39m\"\u001b[39m\u001b[39mnames\u001b[39m\u001b[39m\"\u001b[39m, \u001b[39mNone\u001b[39;00m))\n\u001b[0;32m    576\u001b[0m \u001b[39m# Create the parser.\u001b[39;00m\n\u001b[1;32m--> 577\u001b[0m parser \u001b[39m=\u001b[39m TextFileReader(filepath_or_buffer, \u001b[39m*\u001b[39m\u001b[39m*\u001b[39mkwds)\n\u001b[0;32m    579\u001b[0m \u001b[39mif\u001b[39;00m chunksize \u001b[39mor\u001b[39;00m iterator:\n\u001b[0;32m    580\u001b[0m     \u001b[39mreturn\u001b[39;00m parser\n",
      "File \u001b[1;32m~\\AppData\\Local\\Packages\\PythonSoftwareFoundation.Python.3.10_qbz5n2kfra8p0\\LocalCache\\local-packages\\Python310\\site-packages\\pandas\\io\\parsers\\readers.py:1407\u001b[0m, in \u001b[0;36mTextFileReader.__init__\u001b[1;34m(self, f, engine, **kwds)\u001b[0m\n\u001b[0;32m   1404\u001b[0m     \u001b[39mself\u001b[39m\u001b[39m.\u001b[39moptions[\u001b[39m\"\u001b[39m\u001b[39mhas_index_names\u001b[39m\u001b[39m\"\u001b[39m] \u001b[39m=\u001b[39m kwds[\u001b[39m\"\u001b[39m\u001b[39mhas_index_names\u001b[39m\u001b[39m\"\u001b[39m]\n\u001b[0;32m   1406\u001b[0m \u001b[39mself\u001b[39m\u001b[39m.\u001b[39mhandles: IOHandles \u001b[39m|\u001b[39m \u001b[39mNone\u001b[39;00m \u001b[39m=\u001b[39m \u001b[39mNone\u001b[39;00m\n\u001b[1;32m-> 1407\u001b[0m \u001b[39mself\u001b[39m\u001b[39m.\u001b[39m_engine \u001b[39m=\u001b[39m \u001b[39mself\u001b[39;49m\u001b[39m.\u001b[39;49m_make_engine(f, \u001b[39mself\u001b[39;49m\u001b[39m.\u001b[39;49mengine)\n",
      "File \u001b[1;32m~\\AppData\\Local\\Packages\\PythonSoftwareFoundation.Python.3.10_qbz5n2kfra8p0\\LocalCache\\local-packages\\Python310\\site-packages\\pandas\\io\\parsers\\readers.py:1661\u001b[0m, in \u001b[0;36mTextFileReader._make_engine\u001b[1;34m(self, f, engine)\u001b[0m\n\u001b[0;32m   1659\u001b[0m     \u001b[39mif\u001b[39;00m \u001b[39m\"\u001b[39m\u001b[39mb\u001b[39m\u001b[39m\"\u001b[39m \u001b[39mnot\u001b[39;00m \u001b[39min\u001b[39;00m mode:\n\u001b[0;32m   1660\u001b[0m         mode \u001b[39m+\u001b[39m\u001b[39m=\u001b[39m \u001b[39m\"\u001b[39m\u001b[39mb\u001b[39m\u001b[39m\"\u001b[39m\n\u001b[1;32m-> 1661\u001b[0m \u001b[39mself\u001b[39m\u001b[39m.\u001b[39mhandles \u001b[39m=\u001b[39m get_handle(\n\u001b[0;32m   1662\u001b[0m     f,\n\u001b[0;32m   1663\u001b[0m     mode,\n\u001b[0;32m   1664\u001b[0m     encoding\u001b[39m=\u001b[39;49m\u001b[39mself\u001b[39;49m\u001b[39m.\u001b[39;49moptions\u001b[39m.\u001b[39;49mget(\u001b[39m\"\u001b[39;49m\u001b[39mencoding\u001b[39;49m\u001b[39m\"\u001b[39;49m, \u001b[39mNone\u001b[39;49;00m),\n\u001b[0;32m   1665\u001b[0m     compression\u001b[39m=\u001b[39;49m\u001b[39mself\u001b[39;49m\u001b[39m.\u001b[39;49moptions\u001b[39m.\u001b[39;49mget(\u001b[39m\"\u001b[39;49m\u001b[39mcompression\u001b[39;49m\u001b[39m\"\u001b[39;49m, \u001b[39mNone\u001b[39;49;00m),\n\u001b[0;32m   1666\u001b[0m     memory_map\u001b[39m=\u001b[39;49m\u001b[39mself\u001b[39;49m\u001b[39m.\u001b[39;49moptions\u001b[39m.\u001b[39;49mget(\u001b[39m\"\u001b[39;49m\u001b[39mmemory_map\u001b[39;49m\u001b[39m\"\u001b[39;49m, \u001b[39mFalse\u001b[39;49;00m),\n\u001b[0;32m   1667\u001b[0m     is_text\u001b[39m=\u001b[39;49mis_text,\n\u001b[0;32m   1668\u001b[0m     errors\u001b[39m=\u001b[39;49m\u001b[39mself\u001b[39;49m\u001b[39m.\u001b[39;49moptions\u001b[39m.\u001b[39;49mget(\u001b[39m\"\u001b[39;49m\u001b[39mencoding_errors\u001b[39;49m\u001b[39m\"\u001b[39;49m, \u001b[39m\"\u001b[39;49m\u001b[39mstrict\u001b[39;49m\u001b[39m\"\u001b[39;49m),\n\u001b[0;32m   1669\u001b[0m     storage_options\u001b[39m=\u001b[39;49m\u001b[39mself\u001b[39;49m\u001b[39m.\u001b[39;49moptions\u001b[39m.\u001b[39;49mget(\u001b[39m\"\u001b[39;49m\u001b[39mstorage_options\u001b[39;49m\u001b[39m\"\u001b[39;49m, \u001b[39mNone\u001b[39;49;00m),\n\u001b[0;32m   1670\u001b[0m )\n\u001b[0;32m   1671\u001b[0m \u001b[39massert\u001b[39;00m \u001b[39mself\u001b[39m\u001b[39m.\u001b[39mhandles \u001b[39mis\u001b[39;00m \u001b[39mnot\u001b[39;00m \u001b[39mNone\u001b[39;00m\n\u001b[0;32m   1672\u001b[0m f \u001b[39m=\u001b[39m \u001b[39mself\u001b[39m\u001b[39m.\u001b[39mhandles\u001b[39m.\u001b[39mhandle\n",
      "File \u001b[1;32m~\\AppData\\Local\\Packages\\PythonSoftwareFoundation.Python.3.10_qbz5n2kfra8p0\\LocalCache\\local-packages\\Python310\\site-packages\\pandas\\io\\common.py:859\u001b[0m, in \u001b[0;36mget_handle\u001b[1;34m(path_or_buf, mode, encoding, compression, memory_map, is_text, errors, storage_options)\u001b[0m\n\u001b[0;32m    854\u001b[0m \u001b[39melif\u001b[39;00m \u001b[39misinstance\u001b[39m(handle, \u001b[39mstr\u001b[39m):\n\u001b[0;32m    855\u001b[0m     \u001b[39m# Check whether the filename is to be opened in binary mode.\u001b[39;00m\n\u001b[0;32m    856\u001b[0m     \u001b[39m# Binary mode does not support 'encoding' and 'newline'.\u001b[39;00m\n\u001b[0;32m    857\u001b[0m     \u001b[39mif\u001b[39;00m ioargs\u001b[39m.\u001b[39mencoding \u001b[39mand\u001b[39;00m \u001b[39m\"\u001b[39m\u001b[39mb\u001b[39m\u001b[39m\"\u001b[39m \u001b[39mnot\u001b[39;00m \u001b[39min\u001b[39;00m ioargs\u001b[39m.\u001b[39mmode:\n\u001b[0;32m    858\u001b[0m         \u001b[39m# Encoding\u001b[39;00m\n\u001b[1;32m--> 859\u001b[0m         handle \u001b[39m=\u001b[39m \u001b[39mopen\u001b[39;49m(\n\u001b[0;32m    860\u001b[0m             handle,\n\u001b[0;32m    861\u001b[0m             ioargs\u001b[39m.\u001b[39;49mmode,\n\u001b[0;32m    862\u001b[0m             encoding\u001b[39m=\u001b[39;49mioargs\u001b[39m.\u001b[39;49mencoding,\n\u001b[0;32m    863\u001b[0m             errors\u001b[39m=\u001b[39;49merrors,\n\u001b[0;32m    864\u001b[0m             newline\u001b[39m=\u001b[39;49m\u001b[39m\"\u001b[39;49m\u001b[39m\"\u001b[39;49m,\n\u001b[0;32m    865\u001b[0m         )\n\u001b[0;32m    866\u001b[0m     \u001b[39melse\u001b[39;00m:\n\u001b[0;32m    867\u001b[0m         \u001b[39m# Binary mode\u001b[39;00m\n\u001b[0;32m    868\u001b[0m         handle \u001b[39m=\u001b[39m \u001b[39mopen\u001b[39m(handle, ioargs\u001b[39m.\u001b[39mmode)\n",
      "\u001b[1;31mFileNotFoundError\u001b[0m: [Errno 2] No such file or directory: '2_datasets_etl/movies_dataset_cleaned.csv'"
     ]
    }
   ],
   "source": [
    "# Leer el archivo CSV de películas y productoras\n",
    "movies_df = pd.read_csv('2_datasets_etl/movies_dataset_cleaned.csv')\n",
    "companies_df = pd.read_csv('2_datasets_etl/companies_data.csv')\n",
    "\n",
    "# Realizar el JOIN utilizando las columnas 'id_movie' de movies_df e 'id_movie' de companies_df\n",
    "productoras_exitosas_df = pd.merge(movies_df, companies_df,  left_on='id', right_on='id_movie', how='inner')\n",
    "\n",
    "# Solo usaremos las columnas necesarias para la función\n",
    "productoras_exitosas_df =  productoras_exitosas_df[['id','title','revenue', 'id_movie', 'name_companies']]\n",
    "\n",
    "# guardar CSV\n",
    "productoras_exitosas_df.to_csv(\"3_datasets_api/productoras_exitosas.csv\", index=False)\n",
    "\n",
    "productoras_exitosas_df\n"
   ]
  },
  {
   "cell_type": "code",
   "execution_count": 47,
   "metadata": {},
   "outputs": [],
   "source": [
    "# def productoras_exitosas( Productora: str ): \n",
    "# Se ingresa la productora, entregandote el revunue total y la cantidad de peliculas que realizo.\n",
    "# Ejemplo de retorno: La productora X ha tenido un revenue de x\n",
    "\n",
    "def productoras_exitosas(Productora: str) -> str:\n",
    "    # Validar si el parámetro es de tipo string\n",
    "    if not isinstance(Productora, str):\n",
    "        return \"El parámetro 'Productora' debe ser un string.\"\n",
    "\n",
    "    # Leer el archivo CSV de productora exitosa\n",
    "    productoras_exitosas_df = pd.read_csv('3_datasets_api/productoras_exitosas.csv')\n",
    "\n",
    "    # Filtrar las películas que coincidan con la productora ingresada\n",
    "    productoras_exitosas_df = productoras_exitosas_df[productoras_exitosas_df['name_companies'].str.lower() == Productora.lower()]\n",
    "\n",
    "    # Calcular el total de revenue y la cantidad de películas realizadas\n",
    "    revenue_total = productoras_exitosas_df['revenue'].sum()/100000\n",
    "    cantidad_peliculas = productoras_exitosas_df['id_movie'].nunique()\n",
    "\n",
    "    return f\"La productora {Productora} ha tenido un revenue total de {revenue_total:,.0f} millones y ha realizado {cantidad_peliculas} películas.\"\n",
    "\n"
   ]
  },
  {
   "cell_type": "code",
   "execution_count": 48,
   "metadata": {},
   "outputs": [
    {
     "name": "stdout",
     "output_type": "stream",
     "text": [
      "La productora Warner Bros. ha tenido un revenue total de 635,252 millones y ha realizado 1250 películas.\n",
      "La productora Pixar Animation Studios ha tenido un revenue total de 111,885 millones y ha realizado 52 películas.\n",
      "La productora Universal Pictures ha tenido un revenue total de 552,592 millones y ha realizado 830 películas.\n",
      "La productora x ha tenido un revenue total de 0 millones y ha realizado 0 películas.\n",
      "El parámetro 'Productora' debe ser un string.\n"
     ]
    }
   ],
   "source": [
    "# Ejemplo de uso\n",
    "print(productoras_exitosas('Warner Bros.'))\t\n",
    "print(productoras_exitosas('Pixar Animation Studios'))\n",
    "print(productoras_exitosas('Universal Pictures'))\n",
    "print(productoras_exitosas('x'))\n",
    "print(productoras_exitosas(0))"
   ]
  },
  {
   "cell_type": "code",
   "execution_count": 7,
   "metadata": {},
   "outputs": [
    {
     "ename": "FileNotFoundError",
     "evalue": "[Errno 2] No such file or directory: '2_datasets_etl/movies_dataset_cleaned.csv'",
     "output_type": "error",
     "traceback": [
      "\u001b[1;31m---------------------------------------------------------------------------\u001b[0m",
      "\u001b[1;31mFileNotFoundError\u001b[0m                         Traceback (most recent call last)",
      "Cell \u001b[1;32mIn[7], line 2\u001b[0m\n\u001b[0;32m      1\u001b[0m \u001b[39m# Leer los archivos CSV con la información de películas y del equipo de producción\u001b[39;00m\n\u001b[1;32m----> 2\u001b[0m movies_df \u001b[39m=\u001b[39m pd\u001b[39m.\u001b[39;49mread_csv(\u001b[39m'\u001b[39;49m\u001b[39m2_datasets_etl/movies_dataset_cleaned.csv\u001b[39;49m\u001b[39m'\u001b[39;49m)\n\u001b[0;32m      3\u001b[0m crew_df \u001b[39m=\u001b[39m pd\u001b[39m.\u001b[39mread_csv(\u001b[39m'\u001b[39m\u001b[39m2_datasets_etl/crew_data.csv\u001b[39m\u001b[39m'\u001b[39m)\n\u001b[0;32m      5\u001b[0m \u001b[39m# Realizar una unión (merge) entre los DataFrames usando la columna 'id_movie' como clave\u001b[39;00m\n",
      "File \u001b[1;32m~\\AppData\\Local\\Packages\\PythonSoftwareFoundation.Python.3.10_qbz5n2kfra8p0\\LocalCache\\local-packages\\Python310\\site-packages\\pandas\\io\\parsers\\readers.py:912\u001b[0m, in \u001b[0;36mread_csv\u001b[1;34m(filepath_or_buffer, sep, delimiter, header, names, index_col, usecols, dtype, engine, converters, true_values, false_values, skipinitialspace, skiprows, skipfooter, nrows, na_values, keep_default_na, na_filter, verbose, skip_blank_lines, parse_dates, infer_datetime_format, keep_date_col, date_parser, date_format, dayfirst, cache_dates, iterator, chunksize, compression, thousands, decimal, lineterminator, quotechar, quoting, doublequote, escapechar, comment, encoding, encoding_errors, dialect, on_bad_lines, delim_whitespace, low_memory, memory_map, float_precision, storage_options, dtype_backend)\u001b[0m\n\u001b[0;32m    899\u001b[0m kwds_defaults \u001b[39m=\u001b[39m _refine_defaults_read(\n\u001b[0;32m    900\u001b[0m     dialect,\n\u001b[0;32m    901\u001b[0m     delimiter,\n\u001b[1;32m   (...)\u001b[0m\n\u001b[0;32m    908\u001b[0m     dtype_backend\u001b[39m=\u001b[39mdtype_backend,\n\u001b[0;32m    909\u001b[0m )\n\u001b[0;32m    910\u001b[0m kwds\u001b[39m.\u001b[39mupdate(kwds_defaults)\n\u001b[1;32m--> 912\u001b[0m \u001b[39mreturn\u001b[39;00m _read(filepath_or_buffer, kwds)\n",
      "File \u001b[1;32m~\\AppData\\Local\\Packages\\PythonSoftwareFoundation.Python.3.10_qbz5n2kfra8p0\\LocalCache\\local-packages\\Python310\\site-packages\\pandas\\io\\parsers\\readers.py:577\u001b[0m, in \u001b[0;36m_read\u001b[1;34m(filepath_or_buffer, kwds)\u001b[0m\n\u001b[0;32m    574\u001b[0m _validate_names(kwds\u001b[39m.\u001b[39mget(\u001b[39m\"\u001b[39m\u001b[39mnames\u001b[39m\u001b[39m\"\u001b[39m, \u001b[39mNone\u001b[39;00m))\n\u001b[0;32m    576\u001b[0m \u001b[39m# Create the parser.\u001b[39;00m\n\u001b[1;32m--> 577\u001b[0m parser \u001b[39m=\u001b[39m TextFileReader(filepath_or_buffer, \u001b[39m*\u001b[39m\u001b[39m*\u001b[39mkwds)\n\u001b[0;32m    579\u001b[0m \u001b[39mif\u001b[39;00m chunksize \u001b[39mor\u001b[39;00m iterator:\n\u001b[0;32m    580\u001b[0m     \u001b[39mreturn\u001b[39;00m parser\n",
      "File \u001b[1;32m~\\AppData\\Local\\Packages\\PythonSoftwareFoundation.Python.3.10_qbz5n2kfra8p0\\LocalCache\\local-packages\\Python310\\site-packages\\pandas\\io\\parsers\\readers.py:1407\u001b[0m, in \u001b[0;36mTextFileReader.__init__\u001b[1;34m(self, f, engine, **kwds)\u001b[0m\n\u001b[0;32m   1404\u001b[0m     \u001b[39mself\u001b[39m\u001b[39m.\u001b[39moptions[\u001b[39m\"\u001b[39m\u001b[39mhas_index_names\u001b[39m\u001b[39m\"\u001b[39m] \u001b[39m=\u001b[39m kwds[\u001b[39m\"\u001b[39m\u001b[39mhas_index_names\u001b[39m\u001b[39m\"\u001b[39m]\n\u001b[0;32m   1406\u001b[0m \u001b[39mself\u001b[39m\u001b[39m.\u001b[39mhandles: IOHandles \u001b[39m|\u001b[39m \u001b[39mNone\u001b[39;00m \u001b[39m=\u001b[39m \u001b[39mNone\u001b[39;00m\n\u001b[1;32m-> 1407\u001b[0m \u001b[39mself\u001b[39m\u001b[39m.\u001b[39m_engine \u001b[39m=\u001b[39m \u001b[39mself\u001b[39;49m\u001b[39m.\u001b[39;49m_make_engine(f, \u001b[39mself\u001b[39;49m\u001b[39m.\u001b[39;49mengine)\n",
      "File \u001b[1;32m~\\AppData\\Local\\Packages\\PythonSoftwareFoundation.Python.3.10_qbz5n2kfra8p0\\LocalCache\\local-packages\\Python310\\site-packages\\pandas\\io\\parsers\\readers.py:1661\u001b[0m, in \u001b[0;36mTextFileReader._make_engine\u001b[1;34m(self, f, engine)\u001b[0m\n\u001b[0;32m   1659\u001b[0m     \u001b[39mif\u001b[39;00m \u001b[39m\"\u001b[39m\u001b[39mb\u001b[39m\u001b[39m\"\u001b[39m \u001b[39mnot\u001b[39;00m \u001b[39min\u001b[39;00m mode:\n\u001b[0;32m   1660\u001b[0m         mode \u001b[39m+\u001b[39m\u001b[39m=\u001b[39m \u001b[39m\"\u001b[39m\u001b[39mb\u001b[39m\u001b[39m\"\u001b[39m\n\u001b[1;32m-> 1661\u001b[0m \u001b[39mself\u001b[39m\u001b[39m.\u001b[39mhandles \u001b[39m=\u001b[39m get_handle(\n\u001b[0;32m   1662\u001b[0m     f,\n\u001b[0;32m   1663\u001b[0m     mode,\n\u001b[0;32m   1664\u001b[0m     encoding\u001b[39m=\u001b[39;49m\u001b[39mself\u001b[39;49m\u001b[39m.\u001b[39;49moptions\u001b[39m.\u001b[39;49mget(\u001b[39m\"\u001b[39;49m\u001b[39mencoding\u001b[39;49m\u001b[39m\"\u001b[39;49m, \u001b[39mNone\u001b[39;49;00m),\n\u001b[0;32m   1665\u001b[0m     compression\u001b[39m=\u001b[39;49m\u001b[39mself\u001b[39;49m\u001b[39m.\u001b[39;49moptions\u001b[39m.\u001b[39;49mget(\u001b[39m\"\u001b[39;49m\u001b[39mcompression\u001b[39;49m\u001b[39m\"\u001b[39;49m, \u001b[39mNone\u001b[39;49;00m),\n\u001b[0;32m   1666\u001b[0m     memory_map\u001b[39m=\u001b[39;49m\u001b[39mself\u001b[39;49m\u001b[39m.\u001b[39;49moptions\u001b[39m.\u001b[39;49mget(\u001b[39m\"\u001b[39;49m\u001b[39mmemory_map\u001b[39;49m\u001b[39m\"\u001b[39;49m, \u001b[39mFalse\u001b[39;49;00m),\n\u001b[0;32m   1667\u001b[0m     is_text\u001b[39m=\u001b[39;49mis_text,\n\u001b[0;32m   1668\u001b[0m     errors\u001b[39m=\u001b[39;49m\u001b[39mself\u001b[39;49m\u001b[39m.\u001b[39;49moptions\u001b[39m.\u001b[39;49mget(\u001b[39m\"\u001b[39;49m\u001b[39mencoding_errors\u001b[39;49m\u001b[39m\"\u001b[39;49m, \u001b[39m\"\u001b[39;49m\u001b[39mstrict\u001b[39;49m\u001b[39m\"\u001b[39;49m),\n\u001b[0;32m   1669\u001b[0m     storage_options\u001b[39m=\u001b[39;49m\u001b[39mself\u001b[39;49m\u001b[39m.\u001b[39;49moptions\u001b[39m.\u001b[39;49mget(\u001b[39m\"\u001b[39;49m\u001b[39mstorage_options\u001b[39;49m\u001b[39m\"\u001b[39;49m, \u001b[39mNone\u001b[39;49;00m),\n\u001b[0;32m   1670\u001b[0m )\n\u001b[0;32m   1671\u001b[0m \u001b[39massert\u001b[39;00m \u001b[39mself\u001b[39m\u001b[39m.\u001b[39mhandles \u001b[39mis\u001b[39;00m \u001b[39mnot\u001b[39;00m \u001b[39mNone\u001b[39;00m\n\u001b[0;32m   1672\u001b[0m f \u001b[39m=\u001b[39m \u001b[39mself\u001b[39m\u001b[39m.\u001b[39mhandles\u001b[39m.\u001b[39mhandle\n",
      "File \u001b[1;32m~\\AppData\\Local\\Packages\\PythonSoftwareFoundation.Python.3.10_qbz5n2kfra8p0\\LocalCache\\local-packages\\Python310\\site-packages\\pandas\\io\\common.py:859\u001b[0m, in \u001b[0;36mget_handle\u001b[1;34m(path_or_buf, mode, encoding, compression, memory_map, is_text, errors, storage_options)\u001b[0m\n\u001b[0;32m    854\u001b[0m \u001b[39melif\u001b[39;00m \u001b[39misinstance\u001b[39m(handle, \u001b[39mstr\u001b[39m):\n\u001b[0;32m    855\u001b[0m     \u001b[39m# Check whether the filename is to be opened in binary mode.\u001b[39;00m\n\u001b[0;32m    856\u001b[0m     \u001b[39m# Binary mode does not support 'encoding' and 'newline'.\u001b[39;00m\n\u001b[0;32m    857\u001b[0m     \u001b[39mif\u001b[39;00m ioargs\u001b[39m.\u001b[39mencoding \u001b[39mand\u001b[39;00m \u001b[39m\"\u001b[39m\u001b[39mb\u001b[39m\u001b[39m\"\u001b[39m \u001b[39mnot\u001b[39;00m \u001b[39min\u001b[39;00m ioargs\u001b[39m.\u001b[39mmode:\n\u001b[0;32m    858\u001b[0m         \u001b[39m# Encoding\u001b[39;00m\n\u001b[1;32m--> 859\u001b[0m         handle \u001b[39m=\u001b[39m \u001b[39mopen\u001b[39;49m(\n\u001b[0;32m    860\u001b[0m             handle,\n\u001b[0;32m    861\u001b[0m             ioargs\u001b[39m.\u001b[39;49mmode,\n\u001b[0;32m    862\u001b[0m             encoding\u001b[39m=\u001b[39;49mioargs\u001b[39m.\u001b[39;49mencoding,\n\u001b[0;32m    863\u001b[0m             errors\u001b[39m=\u001b[39;49merrors,\n\u001b[0;32m    864\u001b[0m             newline\u001b[39m=\u001b[39;49m\u001b[39m\"\u001b[39;49m\u001b[39m\"\u001b[39;49m,\n\u001b[0;32m    865\u001b[0m         )\n\u001b[0;32m    866\u001b[0m     \u001b[39melse\u001b[39;00m:\n\u001b[0;32m    867\u001b[0m         \u001b[39m# Binary mode\u001b[39;00m\n\u001b[0;32m    868\u001b[0m         handle \u001b[39m=\u001b[39m \u001b[39mopen\u001b[39m(handle, ioargs\u001b[39m.\u001b[39mmode)\n",
      "\u001b[1;31mFileNotFoundError\u001b[0m: [Errno 2] No such file or directory: '2_datasets_etl/movies_dataset_cleaned.csv'"
     ]
    }
   ],
   "source": [
    "# Leer los archivos CSV con la información de películas y del equipo de producción\n",
    "movies_df = pd.read_csv('2_datasets_etl/movies_dataset_cleaned.csv')\n",
    "crew_df = pd.read_csv('2_datasets_etl/crew_data.csv')\n",
    "\n",
    "# Realizar una unión (merge) entre los DataFrames usando la columna 'id_movie' como clave\n",
    "director_movies_df = pd.merge(movies_df, crew_df,  left_on='id', right_on='id_movie', how='inner')\n",
    "director_movies_df = director_movies_df[(director_movies_df['job'] == 'Director')]\n",
    "\n",
    "# Solo usaremos las columnas necesarias para la función\n",
    "director_movies_df =  director_movies_df[['id', 'title', 'revenue', 'budget', 'release_date', 'name_crew']]\n",
    "\n",
    "# Guardar CSV\n",
    "director_movies_df.to_csv(\"3_datasets_api/director_movies.csv\", index=False)\n",
    "\n",
    "director_movies_df.info()"
   ]
  },
  {
   "cell_type": "code",
   "execution_count": 5,
   "metadata": {},
   "outputs": [],
   "source": [
    "# def get_director( nombre_director ): \n",
    "# Se ingresa el nombre de un director que se encuentre dentro de un dataset debiendo devolver el éxito del mismo medido a través del retorno. \n",
    "# Además, deberá devolver el nombre de cada película con la fecha de lanzamiento, retorno individual, costo y ganancia de la misma, \n",
    "# en formato lista.\n",
    "\n",
    "def get_director(nombre_director):\n",
    "    # Validar si el parámetro es de tipo string\n",
    "    if not isinstance(nombre_director, str):\n",
    "        return \"El parámetro 'nombre_director' debe ser un string.\"\n",
    "\n",
    "    # Leer el archivo CSV de productora exitosa\n",
    "    director_movies_df = pd.read_csv('3_datasets_api/director_movies.csv')\n",
    "\n",
    "    # Filtrar las películas dirigidas por el director especificado\n",
    "    director_movies_df = director_movies_df[(director_movies_df['name_crew'].str.lower() == nombre_director.lower())]\n",
    "\n",
    "    if director_movies_df.empty:\n",
    "        return \"El director no se encuentra en el dataset o no ha dirigido películas.\"\n",
    "\n",
    "    # Calcular el éxito del director (promedio de votos de sus películas)\n",
    "    exito_director = director_movies_df['revenue'].sum()\n",
    "\n",
    "    # Crear una lista para almacenar la información de cada película\n",
    "    peliculas_info = []\n",
    "\n",
    "    # Iterar sobre las filas del DataFrame para obtener la información requerida\n",
    "    for index, row in director_movies_df.iterrows():\n",
    "        pelicula_info = {\n",
    "            'nombre': row['title'],\n",
    "            'fecha_lanzamiento': row['release_date'],\n",
    "            'retorno_individual': row['revenue'],\n",
    "            'costo': row['budget'],\n",
    "            'ganancia': row['revenue']-row['budget'] \n",
    "        }\n",
    "        peliculas_info.append(pelicula_info)\n",
    "\n",
    "    return exito_director, peliculas_info"
   ]
  },
  {
   "cell_type": "code",
   "execution_count": 6,
   "metadata": {},
   "outputs": [
    {
     "name": "stdout",
     "output_type": "stream",
     "text": [
      "Éxito de Steven Spielberg: 9,256,621,422 \n",
      "Información de películas dirigidas:\n",
      "Nombre: Jurassic Park, Fecha de lanzamiento: 1993-06-11, Retorno individual: 920,100,000, Costo: 63,000,000, Ganancia: 857,100,000\n",
      "Nombre: Schindler's List, Fecha de lanzamiento: 1993-11-29, Retorno individual: 321,365,567, Costo: 22,000,000, Ganancia: 299,365,567\n",
      "Nombre: E.T. the Extra-Terrestrial, Fecha de lanzamiento: 1982-04-03, Retorno individual: 792,965,326, Costo: 10,500,000, Ganancia: 782,465,326\n",
      "Nombre: Raiders of the Lost Ark, Fecha de lanzamiento: 1981-06-12, Retorno individual: 389,925,971, Costo: 18,000,000, Ganancia: 371,925,971\n",
      "Nombre: Indiana Jones and the Last Crusade, Fecha de lanzamiento: 1989-05-24, Retorno individual: 474,171,806, Costo: 48,000,000, Ganancia: 426,171,806\n",
      "Nombre: Jaws, Fecha de lanzamiento: 1975-06-18, Retorno individual: 470,654,000, Costo: 7,000,000, Ganancia: 463,654,000\n",
      "Nombre: The Lost World: Jurassic Park, Fecha de lanzamiento: 1997-05-23, Retorno individual: 229,074,524, Costo: 73,000,000, Ganancia: 156,074,524\n",
      "Nombre: Amistad, Fecha de lanzamiento: 1997-12-03, Retorno individual: 74,000,000, Costo: 36,000,000, Ganancia: 38,000,000\n",
      "Nombre: Saving Private Ryan, Fecha de lanzamiento: 1998-07-24, Retorno individual: 481,840,909, Costo: 70,000,000, Ganancia: 411,840,909\n",
      "Nombre: Indiana Jones and the Temple of Doom, Fecha de lanzamiento: 1984-05-23, Retorno individual: 333,000,000, Costo: 28,000,000, Ganancia: 305,000,000\n",
      "Nombre: The Color Purple, Fecha de lanzamiento: 1985-12-18, Retorno individual: 146,292,009, Costo: 15,000,000, Ganancia: 131,292,009\n",
      "Nombre: Close Encounters of the Third Kind, Fecha de lanzamiento: 1977-11-16, Retorno individual: 303,788,635, Costo: 20,000,000, Ganancia: 283,788,635\n",
      "Nombre: Hook, Fecha de lanzamiento: 1991-12-11, Retorno individual: 300,854,823, Costo: 70,000,000, Ganancia: 230,854,823\n",
      "Nombre: The Sugarland Express, Fecha de lanzamiento: 1974-04-05, Retorno individual: 12,800,000, Costo: 3,000,000, Ganancia: 9,800,000\n",
      "Nombre: Empire of the Sun, Fecha de lanzamiento: 1987-12-09, Retorno individual: 22,238,696, Costo: 35,000,000, Ganancia: -12,761,304\n",
      "Nombre: A.I. Artificial Intelligence, Fecha de lanzamiento: 2001-06-29, Retorno individual: 235,926,552, Costo: 100,000,000, Ganancia: 135,926,552\n",
      "Nombre: Always, Fecha de lanzamiento: 1989-12-22, Retorno individual: 74,134,790, Costo: 31,000,000, Ganancia: 43,134,790\n",
      "Nombre: Minority Report, Fecha de lanzamiento: 2002-06-20, Retorno individual: 358,372,926, Costo: 102,000,000, Ganancia: 256,372,926\n",
      "Nombre: Catch Me If You Can, Fecha de lanzamiento: 2002-12-25, Retorno individual: 352,114,312, Costo: 52,000,000, Ganancia: 300,114,312\n",
      "Nombre: 1941, Fecha de lanzamiento: 1979-12-13, Retorno individual: 31,755,742, Costo: 35,000,000, Ganancia: -3,244,258\n",
      "Nombre: The Terminal, Fecha de lanzamiento: 2004-06-17, Retorno individual: 219,417,255, Costo: 60,000,000, Ganancia: 159,417,255\n",
      "Nombre: Duel, Fecha de lanzamiento: 1972-10-01, Retorno individual: 0, Costo: 450,000, Ganancia: -450,000\n",
      "Nombre: Twilight Zone: The Movie, Fecha de lanzamiento: 1983-06-24, Retorno individual: 29,450,919, Costo: 10,000,000, Ganancia: 19,450,919\n",
      "Nombre: War of the Worlds, Fecha de lanzamiento: 2005-06-28, Retorno individual: 591,739,379, Costo: 132,000,000, Ganancia: 459,739,379\n",
      "Nombre: Munich, Fecha de lanzamiento: 2005-12-22, Retorno individual: 130,358,911, Costo: 70,000,000, Ganancia: 60,358,911\n",
      "Nombre: Indiana Jones and the Kingdom of the Crystal Skull, Fecha de lanzamiento: 2008-05-21, Retorno individual: 786,636,033, Costo: 185,000,000, Ganancia: 601,636,033\n",
      "Nombre: The Adventures of Tintin, Fecha de lanzamiento: 2011-10-25, Retorno individual: 371,940,071, Costo: 130,000,000, Ganancia: 241,940,071\n",
      "Nombre: War Horse, Fecha de lanzamiento: 2011-12-25, Retorno individual: 177,584,879, Costo: 66,000,000, Ganancia: 111,584,879\n",
      "Nombre: Lincoln, Fecha de lanzamiento: 2012-11-09, Retorno individual: 275,293,450, Costo: 65,000,000, Ganancia: 210,293,450\n",
      "Nombre: Night Gallery, Fecha de lanzamiento: 1969-04-03, Retorno individual: 0, Costo: 0, Ganancia: 0\n",
      "Nombre: Bridge of Spies, Fecha de lanzamiento: 2015-10-15, Retorno individual: 165,478,348, Costo: 40,000,000, Ganancia: 125,478,348\n",
      "Nombre: The BFG, Fecha de lanzamiento: 2016-06-01, Retorno individual: 183,345,589, Costo: 140,000,000, Ganancia: 43,345,589\n",
      "Nombre: Something Evil, Fecha de lanzamiento: 1972-01-21, Retorno individual: 0, Costo: 0, Ganancia: 0\n"
     ]
    }
   ],
   "source": [
    "\n",
    "# Ejemplo de uso de la función\n",
    "nombre_director = 'Steven Spielberg'\n",
    "exito_director, peliculas_info = get_director(nombre_director)\n",
    "\n",
    "print(f\"Éxito de {nombre_director}: {exito_director:,.0f} \")\n",
    "print(\"Información de películas dirigidas:\")\n",
    "for pelicula in peliculas_info:\n",
    "    print(f\"Nombre: {pelicula['nombre']}, Fecha de lanzamiento: {pelicula['fecha_lanzamiento']}, Retorno individual: {pelicula['retorno_individual']:,.0f}, Costo: {pelicula['costo']:,.0f}, Ganancia: {pelicula['ganancia']:,.0f}\")\n",
    "\n",
    "\n"
   ]
  },
  {
   "cell_type": "code",
   "execution_count": 58,
   "metadata": {},
   "outputs": [
    {
     "name": "stdout",
     "output_type": "stream",
     "text": [
      "Éxito de Christopher Nolan: 4,747,408,665 \n",
      "Información de películas dirigidas:\n",
      "Nombre: Following, Fecha de lanzamiento: 1998-09-12, Retorno individual: 48,482, Costo: 6,000, Ganancia: 42,482\n",
      "Nombre: Memento, Fecha de lanzamiento: 2000-10-11, Retorno individual: 39,723,096, Costo: 9,000,000, Ganancia: 30,723,096\n",
      "Nombre: Insomnia, Fecha de lanzamiento: 2002-05-24, Retorno individual: 113,714,830, Costo: 46,000,000, Ganancia: 67,714,830\n",
      "Nombre: Batman Begins, Fecha de lanzamiento: 2005-06-10, Retorno individual: 374,218,673, Costo: 150,000,000, Ganancia: 224,218,673\n",
      "Nombre: The Prestige, Fecha de lanzamiento: 2006-10-19, Retorno individual: 109,676,311, Costo: 40,000,000, Ganancia: 69,676,311\n",
      "Nombre: The Dark Knight, Fecha de lanzamiento: 2008-07-16, Retorno individual: 1,004,558,444, Costo: 185,000,000, Ganancia: 819,558,444\n",
      "Nombre: Inception, Fecha de lanzamiento: 2010-07-14, Retorno individual: 825,532,764, Costo: 160,000,000, Ganancia: 665,532,764\n",
      "Nombre: The Dark Knight Rises, Fecha de lanzamiento: 2012-07-16, Retorno individual: 1,084,939,099, Costo: 250,000,000, Ganancia: 834,939,099\n",
      "Nombre: Interstellar, Fecha de lanzamiento: 2014-11-05, Retorno individual: 675,120,017, Costo: 165,000,000, Ganancia: 510,120,017\n",
      "Nombre: Doodlebug, Fecha de lanzamiento: 1997-01-01, Retorno individual: 0, Costo: 0, Ganancia: 0\n",
      "Nombre: Doodlebug, Fecha de lanzamiento: 1997-01-01, Retorno individual: 0, Costo: 0, Ganancia: 0\n",
      "Nombre: Dunkirk, Fecha de lanzamiento: 2017-07-19, Retorno individual: 519,876,949, Costo: 100,000,000, Ganancia: 419,876,949\n"
     ]
    }
   ],
   "source": [
    "# Ejemplo de uso\n",
    "nombre_director = 'Christopher Nolan'\n",
    "exito_director, peliculas_info = get_director(nombre_director)\n",
    "\n",
    "print(f\"Éxito de {nombre_director}: {exito_director:,.0f} \")\n",
    "print(\"Información de películas dirigidas:\")\n",
    "for pelicula in peliculas_info:\n",
    "    print(f\"Nombre: {pelicula['nombre']}, Fecha de lanzamiento: {pelicula['fecha_lanzamiento']}, Retorno individual: {pelicula['retorno_individual']:,.0f}, Costo: {pelicula['costo']:,.0f}, Ganancia: {pelicula['ganancia']:,.0f}\")\n"
   ]
  }
 ],
 "metadata": {
  "kernelspec": {
   "display_name": "Python 3",
   "language": "python",
   "name": "python3"
  },
  "language_info": {
   "codemirror_mode": {
    "name": "ipython",
    "version": 3
   },
   "file_extension": ".py",
   "mimetype": "text/x-python",
   "name": "python",
   "nbconvert_exporter": "python",
   "pygments_lexer": "ipython3",
   "version": "3.10.11"
  },
  "orig_nbformat": 4
 },
 "nbformat": 4,
 "nbformat_minor": 2
}
